{
 "cells": [
  {
   "cell_type": "markdown",
   "metadata": {
    "application/vnd.databricks.v1+cell": {
     "cellMetadata": {
      "byteLimit": 2048000,
      "rowLimit": 10000
     },
     "inputWidgets": {},
     "nuid": "8939a773-4b48-4af0-8d45-462eb6977f55",
     "showTitle": false,
     "tableResultSettingsMap": {},
     "title": ""
    }
   },
   "source": [
    "# Update Databricks Secrets Access Control Lists\n",
    "***\n",
    "\n",
    "The purpose of this notebook is to update the access control lists for already defined Databricks Secret Scopes.  \n",
    "\n",
    "In order to run this notebook, the *run_as* user must have MANAGE permission on the Secret Scope.  \n",
    "\n",
    "> DANGER:  Did not share your personal Secret Scopes (typically based on your user name if following practices outlined in the <a href=\"$./Set Databricks Secrets with Python SDK\">Set Databricks Secrets with Python SDK</a> notebook found in this same repo) as that will allow other user's to invoke all of your secrets including secrets such as tokens that are likely unique to you.  Only change the ACLs of Secret Scopes that should be used by many users.  \n",
    "\n",
    "To change the ACL using this notebook you'll need three input parameters:  \n",
    "\n",
    "* **secret_scope**: the Databricks Secret Scope whose ACL you want to change.  \n",
    "* **principal**: the Service Principal, group, or user name that should be added to the ACL.  Note that *users* is the group role for *All workspace users*.  \n",
    "* **permission**:  One of the available access control list permissions: MANAGE, WRITE, READ. The difference between MANAGE and WRITE is that with MANAGE the **principal** is able to alter ACLs as well.  Note that the *admins* group always has MANAGE for all scopes.  Use the **permissison** REVOKE to remove the **principal** from the ACL.  Note: if you revoke your own access (such as removing the only group you're in with MANAGE, or your specific username as the creator of the scope), then only an admin or someone else with MANAGE can add you back."
   ]
  },
  {
   "cell_type": "code",
   "execution_count": 0,
   "metadata": {
    "application/vnd.databricks.v1+cell": {
     "cellMetadata": {
      "byteLimit": 2048000,
      "rowLimit": 10000
     },
     "inputWidgets": {},
     "nuid": "ab62c734-d183-4b66-bd94-7d95d70a389b",
     "showTitle": true,
     "tableResultSettingsMap": {},
     "title": "Install or Upgrade the Python SDK"
    }
   },
   "outputs": [],
   "source": [
    "%pip install databricks-sdk --upgrade"
   ]
  },
  {
   "cell_type": "code",
   "execution_count": 0,
   "metadata": {
    "application/vnd.databricks.v1+cell": {
     "cellMetadata": {
      "byteLimit": 2048000,
      "rowLimit": 10000
     },
     "inputWidgets": {},
     "nuid": "c0924203-b30f-4b0f-8f60-1da114a2a01b",
     "showTitle": true,
     "tableResultSettingsMap": {},
     "title": "Restrart Python"
    }
   },
   "outputs": [],
   "source": [
    "dbutils.library.restartPython()"
   ]
  },
  {
   "cell_type": "code",
   "execution_count": 0,
   "metadata": {
    "application/vnd.databricks.v1+cell": {
     "cellMetadata": {
      "byteLimit": 2048000,
      "rowLimit": 10000
     },
     "inputWidgets": {},
     "nuid": "bc12b755-b385-4570-b426-c90976947146",
     "showTitle": true,
     "tableResultSettingsMap": {},
     "title": "Set Databricks Widgets"
    }
   },
   "outputs": [],
   "source": [
    "dbutils.widgets.text(\"secret_scope\", \"\", \"Databricks Secret Scope\")\n",
    "dbutils.widgets.text(\"principal\", \"\", \"Service Principal, Group, or User\")\n",
    "dbutils.widgets.dropdown(\"permission\", \"READ\", [\"READ\", \"WRITE\", \"MANAGE\", \"REVOKE\"], \"ACL Permission\")"
   ]
  },
  {
   "cell_type": "code",
   "execution_count": 0,
   "metadata": {
    "application/vnd.databricks.v1+cell": {
     "cellMetadata": {
      "byteLimit": 2048000,
      "rowLimit": 10000
     },
     "inputWidgets": {},
     "nuid": "cbed30b0-7d83-4541-b527-68dd08215940",
     "showTitle": true,
     "tableResultSettingsMap": {},
     "title": "Initialize Workspace Client"
    }
   },
   "outputs": [],
   "source": [
    "from databricks.sdk import WorkspaceClient\n",
    "from databricks.sdk.service import workspace\n",
    "\n",
    "w = WorkspaceClient()"
   ]
  },
  {
   "cell_type": "code",
   "execution_count": 0,
   "metadata": {
    "application/vnd.databricks.v1+cell": {
     "cellMetadata": {
      "byteLimit": 2048000,
      "rowLimit": 10000
     },
     "inputWidgets": {},
     "nuid": "43a29a59-3f65-4013-85f9-eb672fa555db",
     "showTitle": true,
     "tableResultSettingsMap": {},
     "title": "Get Input Parameter Values"
    }
   },
   "outputs": [],
   "source": [
    "secret_scope = dbutils.widgets.get(\"secret_scope\")\n",
    "principal = dbutils.widgets.get(\"principal\")\n",
    "permission = dbutils.widgets.get(\"permission\")\n",
    "\n",
    "print(\n",
    "f\"\"\"\n",
    "   secret_scope: {secret_scope}\n",
    "   principal: {principal}\n",
    "   permission: {permission}   \n",
    "\"\"\")"
   ]
  },
  {
   "cell_type": "code",
   "execution_count": 0,
   "metadata": {
    "application/vnd.databricks.v1+cell": {
     "cellMetadata": {
      "byteLimit": 2048000,
      "rowLimit": 10000
     },
     "inputWidgets": {},
     "nuid": "a2b55142-307b-47ed-96e4-f56ba21ae758",
     "showTitle": true,
     "tableResultSettingsMap": {},
     "title": "Check if the Secret Scope Exists and Return Existing ACLs"
    }
   },
   "outputs": [],
   "source": [
    "scopes = w.secrets.list_scopes()\n",
    "scopes = [scope.as_dict() for scope in scopes]\n",
    "scope_exists = any(scope['name'] == secret_scope for scope in scopes)\n",
    "print(f\"scope_exists: {scope_exists}\")\n",
    "\n",
    "if scope_exists == True:\n",
    "  acls = w.secrets.list_acls(scope=secret_scope)\n",
    "  acls = [acl.as_dict() for acl in acls]\n",
    "  print(acls)\n",
    "else:\n",
    "  raise Exception(\"Secret Scope does not exist, please check the input widget or create a new secret scope with the 'Set Databricks Secrets with Python SDK' notebook.\")"
   ]
  },
  {
   "cell_type": "code",
   "execution_count": 0,
   "metadata": {
    "application/vnd.databricks.v1+cell": {
     "cellMetadata": {
      "byteLimit": 2048000,
      "rowLimit": 10000
     },
     "inputWidgets": {},
     "nuid": "56fe53ec-89e1-4be9-a875-213489f64788",
     "showTitle": true,
     "tableResultSettingsMap": {},
     "title": "Update Secret Scope ACLs"
    }
   },
   "outputs": [],
   "source": [
    "if permission == \"REVOKE\":\n",
    "    for acl in acls: \n",
    "        if acl['principal'] == principal: \n",
    "            w.secrets.delete_acl(scope=secret_scope, principal=acl['principal'])\n",
    "            print(f\"Revoking access to Databricks Secret Scope '{secret_scope}' for '{principal}'.\")\n",
    "        else:\n",
    "            pass\n",
    "else:\n",
    "    w.secrets.put_acl(\n",
    "        scope = secret_scope\n",
    "        ,principal = principal\n",
    "        ,permission = workspace.AclPermission[permission]\n",
    "    )\n",
    "    print(f\"Granting `{permission}` access to Databricks Secret Scope '{secret_scope}' for '{principal}'.\")"
   ]
  },
  {
   "cell_type": "code",
   "execution_count": 0,
   "metadata": {
    "application/vnd.databricks.v1+cell": {
     "cellMetadata": {
      "byteLimit": 2048000,
      "rowLimit": 10000
     },
     "inputWidgets": {},
     "nuid": "4add9977-8bec-4a0e-9926-a16882037bf1",
     "showTitle": true,
     "tableResultSettingsMap": {},
     "title": "Review New Secret Scope ACLs"
    }
   },
   "outputs": [],
   "source": [
    "acls = w.secrets.list_acls(scope=secret_scope)\n",
    "acls = [acl.as_dict() for acl in acls]\n",
    "print(acls)"
   ]
  }
 ],
 "metadata": {
  "application/vnd.databricks.v1+notebook": {
   "computePreferences": null,
   "dashboards": [],
   "environmentMetadata": {
    "base_environment": "",
    "environment_version": "2"
   },
   "language": "python",
   "notebookMetadata": {
    "pythonIndentUnit": 4
   },
   "notebookName": "Update Databricks Secrets ACLs",
   "widgets": {
    "permission": {
     "currentValue": "READ",
     "nuid": "a28f2383-5554-4b89-b731-23b10c229ecf",
     "typedWidgetInfo": {
      "autoCreated": false,
      "defaultValue": "READ",
      "label": "ACL Permission",
      "name": "permission",
      "options": {
       "widgetDisplayType": "Dropdown",
       "choices": [
        "READ",
        "WRITE",
        "MANAGE",
        "REVOKE"
       ],
       "fixedDomain": true,
       "multiselect": false
      },
      "parameterDataType": "String"
     },
     "widgetInfo": {
      "widgetType": "dropdown",
      "defaultValue": "READ",
      "label": "ACL Permission",
      "name": "permission",
      "options": {
       "widgetType": "dropdown",
       "autoCreated": null,
       "choices": [
        "READ",
        "WRITE",
        "MANAGE",
        "REVOKE"
       ]
      }
     }
    },
    "principal": {
     "currentValue": "users",
     "nuid": "39781de5-8897-4924-973b-d9703d17a5d4",
     "typedWidgetInfo": {
      "autoCreated": false,
      "defaultValue": "",
      "label": "Service Principal, Group, or User",
      "name": "principal",
      "options": {
       "widgetDisplayType": "Text",
       "validationRegex": null
      },
      "parameterDataType": "String"
     },
     "widgetInfo": {
      "widgetType": "text",
      "defaultValue": "",
      "label": "Service Principal, Group, or User",
      "name": "principal",
      "options": {
       "widgetType": "text",
       "autoCreated": null,
       "validationRegex": null
      }
     }
    },
    "secret_scope": {
     "currentValue": "redox-field-eng",
     "nuid": "4d377efa-6bd7-4af9-a4db-498899a3dac4",
     "typedWidgetInfo": {
      "autoCreated": false,
      "defaultValue": "",
      "label": "Databricks Secret Scope",
      "name": "secret_scope",
      "options": {
       "widgetDisplayType": "Text",
       "validationRegex": null
      },
      "parameterDataType": "String"
     },
     "widgetInfo": {
      "widgetType": "text",
      "defaultValue": "",
      "label": "Databricks Secret Scope",
      "name": "secret_scope",
      "options": {
       "widgetType": "text",
       "autoCreated": null,
       "validationRegex": null
      }
     }
    }
   }
  },
  "language_info": {
   "name": "python"
  }
 },
 "nbformat": 4,
 "nbformat_minor": 0
}
